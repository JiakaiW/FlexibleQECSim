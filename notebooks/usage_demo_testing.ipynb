{
 "cells": [
  {
   "cell_type": "markdown",
   "metadata": {},
   "source": [
    "# demo erasure simulation and decoding"
   ]
  },
  {
   "cell_type": "code",
   "execution_count": 1,
   "metadata": {},
   "outputs": [
    {
     "name": "stdout",
     "output_type": "stream",
     "text": [
      "Found existing installation: FlexibleQECSim 0.0.3\n",
      "Uninstalling FlexibleQECSim-0.0.3:\n",
      "  Successfully uninstalled FlexibleQECSim-0.0.3\n",
      "Collecting git+https://github.com/JiakaiW/FlexibleQECSim\n",
      "  Cloning https://github.com/JiakaiW/FlexibleQECSim to /private/var/folders/9k/z8bpg3hj3d9841ggs75xmwxw0000gn/T/pip-req-build-xk4sf5eh\n",
      "  Running command git clone --filter=blob:none --quiet https://github.com/JiakaiW/FlexibleQECSim /private/var/folders/9k/z8bpg3hj3d9841ggs75xmwxw0000gn/T/pip-req-build-xk4sf5eh\n",
      "  Resolved https://github.com/JiakaiW/FlexibleQECSim to commit a76ca4579154cd7e7b56b57e618baf8bd1c04a66\n",
      "  Preparing metadata (setup.py) ... \u001b[?25ldone\n",
      "\u001b[?25hRequirement already satisfied: numpy in /Users/jiakaiwang/miniconda3/envs/qec_sim/lib/python3.10/site-packages (from FlexibleQECSim==0.0.3) (1.26.4)\n",
      "Requirement already satisfied: stim in /Users/jiakaiwang/miniconda3/envs/qec_sim/lib/python3.10/site-packages (from FlexibleQECSim==0.0.3) (1.13.0)\n",
      "Requirement already satisfied: pymatching in /Users/jiakaiwang/miniconda3/envs/qec_sim/lib/python3.10/site-packages (from FlexibleQECSim==0.0.3) (2.2.1)\n",
      "Requirement already satisfied: scipy in /Users/jiakaiwang/miniconda3/envs/qec_sim/lib/python3.10/site-packages (from pymatching->FlexibleQECSim==0.0.3) (1.12.0)\n",
      "Requirement already satisfied: networkx in /Users/jiakaiwang/miniconda3/envs/qec_sim/lib/python3.10/site-packages (from pymatching->FlexibleQECSim==0.0.3) (3.3)\n",
      "Requirement already satisfied: matplotlib in /Users/jiakaiwang/miniconda3/envs/qec_sim/lib/python3.10/site-packages (from pymatching->FlexibleQECSim==0.0.3) (3.9.1)\n",
      "Requirement already satisfied: contourpy>=1.0.1 in /Users/jiakaiwang/miniconda3/envs/qec_sim/lib/python3.10/site-packages (from matplotlib->pymatching->FlexibleQECSim==0.0.3) (1.2.1)\n",
      "Requirement already satisfied: cycler>=0.10 in /Users/jiakaiwang/miniconda3/envs/qec_sim/lib/python3.10/site-packages (from matplotlib->pymatching->FlexibleQECSim==0.0.3) (0.12.1)\n",
      "Requirement already satisfied: fonttools>=4.22.0 in /Users/jiakaiwang/miniconda3/envs/qec_sim/lib/python3.10/site-packages (from matplotlib->pymatching->FlexibleQECSim==0.0.3) (4.53.1)\n",
      "Requirement already satisfied: kiwisolver>=1.3.1 in /Users/jiakaiwang/miniconda3/envs/qec_sim/lib/python3.10/site-packages (from matplotlib->pymatching->FlexibleQECSim==0.0.3) (1.4.5)\n",
      "Requirement already satisfied: packaging>=20.0 in /Users/jiakaiwang/miniconda3/envs/qec_sim/lib/python3.10/site-packages (from matplotlib->pymatching->FlexibleQECSim==0.0.3) (24.1)\n",
      "Requirement already satisfied: pillow>=8 in /Users/jiakaiwang/miniconda3/envs/qec_sim/lib/python3.10/site-packages (from matplotlib->pymatching->FlexibleQECSim==0.0.3) (10.3.0)\n",
      "Requirement already satisfied: pyparsing>=2.3.1 in /Users/jiakaiwang/miniconda3/envs/qec_sim/lib/python3.10/site-packages (from matplotlib->pymatching->FlexibleQECSim==0.0.3) (3.1.2)\n",
      "Requirement already satisfied: python-dateutil>=2.7 in /Users/jiakaiwang/miniconda3/envs/qec_sim/lib/python3.10/site-packages (from matplotlib->pymatching->FlexibleQECSim==0.0.3) (2.9.0)\n",
      "Requirement already satisfied: six>=1.5 in /Users/jiakaiwang/miniconda3/envs/qec_sim/lib/python3.10/site-packages (from python-dateutil>=2.7->matplotlib->pymatching->FlexibleQECSim==0.0.3) (1.16.0)\n",
      "Building wheels for collected packages: FlexibleQECSim\n",
      "  Building wheel for FlexibleQECSim (setup.py) ... \u001b[?25ldone\n",
      "\u001b[?25h  Created wheel for FlexibleQECSim: filename=FlexibleQECSim-0.0.3-py3-none-any.whl size=39923 sha256=449313ee3d756db79be7029fb8da8f6073942511f6c844234c2bc3a5a7a195af\n",
      "  Stored in directory: /private/var/folders/9k/z8bpg3hj3d9841ggs75xmwxw0000gn/T/pip-ephem-wheel-cache-zr9vnjug/wheels/7c/dc/ad/999e39376c608c6c8ac72fa547be284748da362e5eb86ec24c\n",
      "Successfully built FlexibleQECSim\n",
      "Installing collected packages: FlexibleQECSim\n",
      "Successfully installed FlexibleQECSim-0.0.3\n"
     ]
    }
   ],
   "source": [
    "! pip3 uninstall FlexibleQECSim -y\n",
    "! pip3 install git+https://github.com/JiakaiW/FlexibleQECSim"
   ]
  },
  {
   "cell_type": "code",
   "execution_count": 3,
   "metadata": {},
   "outputs": [
    {
     "ename": "ImportError",
     "evalue": "cannot import name 'string' from 'typing' (/Users/jiakaiwang/miniconda3/envs/qec_sim/lib/python3.10/typing.py)",
     "output_type": "error",
     "traceback": [
      "\u001b[0;31m---------------------------------------------------------------------------\u001b[0m",
      "\u001b[0;31mImportError\u001b[0m                               Traceback (most recent call last)",
      "Cell \u001b[0;32mIn[3], line 1\u001b[0m\n\u001b[0;32m----> 1\u001b[0m \u001b[38;5;28;01mfrom\u001b[39;00m \u001b[38;5;21;01mFlexibleQECSim\u001b[39;00m \u001b[38;5;28;01mimport\u001b[39;00m \u001b[38;5;241m*\u001b[39m\n\u001b[1;32m      2\u001b[0m \u001b[38;5;28;01mfrom\u001b[39;00m \u001b[38;5;21;01mIPython\u001b[39;00m\u001b[38;5;21;01m.\u001b[39;00m\u001b[38;5;21;01mdisplay\u001b[39;00m \u001b[38;5;28;01mimport\u001b[39;00m clear_output\n\u001b[1;32m      4\u001b[0m d \u001b[38;5;241m=\u001b[39m \u001b[38;5;241m5\u001b[39m\n",
      "File \u001b[0;32m~/miniconda3/envs/qec_sim/lib/python3.10/site-packages/FlexibleQECSim/__init__.py:1\u001b[0m\n\u001b[0;32m----> 1\u001b[0m \u001b[38;5;28;01mfrom\u001b[39;00m \u001b[38;5;21;01m.\u001b[39;00m\u001b[38;5;21;01mmc_sampling_job\u001b[39;00m \u001b[38;5;28;01mimport\u001b[39;00m \u001b[38;5;241m*\u001b[39m\n",
      "File \u001b[0;32m~/miniconda3/envs/qec_sim/lib/python3.10/site-packages/FlexibleQECSim/mc_sampling_job.py:1\u001b[0m\n\u001b[0;32m----> 1\u001b[0m \u001b[38;5;28;01mfrom\u001b[39;00m \u001b[38;5;21;01mFlexibleQECSim\u001b[39;00m\u001b[38;5;21;01m.\u001b[39;00m\u001b[38;5;21;01mrotated_surface_memory_experiment_builder\u001b[39;00m \u001b[38;5;28;01mimport\u001b[39;00m \u001b[38;5;241m*\u001b[39m\n\u001b[1;32m      2\u001b[0m \u001b[38;5;28;01mfrom\u001b[39;00m \u001b[38;5;21;01mFlexibleQECSim\u001b[39;00m\u001b[38;5;21;01m.\u001b[39;00m\u001b[38;5;21;01merror_model\u001b[39;00m \u001b[38;5;28;01mimport\u001b[39;00m \u001b[38;5;241m*\u001b[39m\n\u001b[1;32m      4\u001b[0m \u001b[38;5;28;01mimport\u001b[39;00m \u001b[38;5;21;01mtime\u001b[39;00m\n",
      "File \u001b[0;32m~/miniconda3/envs/qec_sim/lib/python3.10/site-packages/FlexibleQECSim/rotated_surface_memory_experiment_builder.py:7\u001b[0m\n\u001b[1;32m      5\u001b[0m \u001b[38;5;28;01mfrom\u001b[39;00m \u001b[38;5;21;01mFlexibleQECSim\u001b[39;00m\u001b[38;5;21;01m.\u001b[39;00m\u001b[38;5;21;01merror_model\u001b[39;00m \u001b[38;5;28;01mimport\u001b[39;00m \u001b[38;5;241m*\u001b[39m\n\u001b[1;32m      6\u001b[0m \u001b[38;5;28;01mfrom\u001b[39;00m \u001b[38;5;21;01mFlexibleQECSim\u001b[39;00m\u001b[38;5;21;01m.\u001b[39;00m\u001b[38;5;21;01mqecc_circ_builder\u001b[39;00m \u001b[38;5;28;01mimport\u001b[39;00m \u001b[38;5;241m*\u001b[39m\n\u001b[0;32m----> 7\u001b[0m \u001b[38;5;28;01mfrom\u001b[39;00m \u001b[38;5;21;01mFlexibleQECSim\u001b[39;00m\u001b[38;5;21;01m.\u001b[39;00m\u001b[38;5;21;01mnoisy_operations\u001b[39;00m \u001b[38;5;28;01mimport\u001b[39;00m (\n\u001b[1;32m      8\u001b[0m     append_before_round_error,\n\u001b[1;32m      9\u001b[0m     append_H,\n\u001b[1;32m     10\u001b[0m     append_cnot,\n\u001b[1;32m     11\u001b[0m     append_cz,\n\u001b[1;32m     12\u001b[0m     append_reset,\n\u001b[1;32m     13\u001b[0m     append_measure\n\u001b[1;32m     14\u001b[0m )\n\u001b[1;32m     15\u001b[0m \u001b[38;5;28;01mfrom\u001b[39;00m \u001b[38;5;21;01mFlexibleQECSim\u001b[39;00m\u001b[38;5;21;01m.\u001b[39;00m\u001b[38;5;21;01mrotated_surface_helper\u001b[39;00m \u001b[38;5;28;01mimport\u001b[39;00m RotatedSurfaceCodeHelper\n\u001b[1;32m     19\u001b[0m \u001b[38;5;129m@dataclass\u001b[39m\n\u001b[1;32m     20\u001b[0m \u001b[38;5;28;01mclass\u001b[39;00m \u001b[38;5;21;01mRotatedSurfaceCodeMemoryExperimentBuilder\u001b[39;00m(QECCircuitBuilder):    \u001b[38;5;66;03m# These attributes are optional and I tend not to change them\u001b[39;00m\n",
      "File \u001b[0;32m~/miniconda3/envs/qec_sim/lib/python3.10/site-packages/FlexibleQECSim/noisy_operations.py:2\u001b[0m\n\u001b[1;32m      1\u001b[0m \u001b[38;5;28;01mimport\u001b[39;00m \u001b[38;5;21;01mstim\u001b[39;00m\n\u001b[0;32m----> 2\u001b[0m \u001b[38;5;28;01mfrom\u001b[39;00m \u001b[38;5;21;01mtyping\u001b[39;00m \u001b[38;5;28;01mimport\u001b[39;00m List, string\n\u001b[1;32m      3\u001b[0m \u001b[38;5;28;01mfrom\u001b[39;00m \u001b[38;5;21;01mFlexibleQECSim\u001b[39;00m\u001b[38;5;21;01m.\u001b[39;00m\u001b[38;5;21;01merror_model\u001b[39;00m \u001b[38;5;28;01mimport\u001b[39;00m GateErrorModel\n\u001b[1;32m      6\u001b[0m \u001b[38;5;28;01mdef\u001b[39;00m \u001b[38;5;21mappend_before_round_error\u001b[39m(circuit: stim\u001b[38;5;241m.\u001b[39mCircuit,\n\u001b[1;32m      7\u001b[0m                               qubits: List[\u001b[38;5;28mint\u001b[39m],\n\u001b[1;32m      8\u001b[0m                               noisy: \u001b[38;5;28mbool\u001b[39m,\n\u001b[1;32m      9\u001b[0m                               noise_model: GateErrorModel,\n\u001b[1;32m     10\u001b[0m                               mode: string):\n",
      "\u001b[0;31mImportError\u001b[0m: cannot import name 'string' from 'typing' (/Users/jiakaiwang/miniconda3/envs/qec_sim/lib/python3.10/typing.py)"
     ]
    }
   ],
   "source": [
    "from FlexibleQECSim import *\n",
    "from IPython.display import clear_output\n",
    "\n",
    "d = 5\n",
    "after_cz_error_model = get_2q_error_model(p_e=0.09,\n",
    "                                            p_z_shift=0, \n",
    "                                            p_p=0.002)\n",
    "builder = RotatedSurfaceCodeMemoryExperimentBuilder(rounds = d,\n",
    "                                distance= d,\n",
    "                                after_cz_error_model=after_cz_error_model,\n",
    "                                measurement_error=0\n",
    "                                )\n",
    "builder.generate_helper()\n",
    "builder.gen_erasure_conversion_circuit()\n",
    "\n",
    "shots = 100\n",
    "\n",
    "sampler = builder.erasure_circuit.compile_sampler()#expensive step, 16s for d13, 4s for d11, 0.7s for d9\n",
    "meas_samples = sampler.sample(shots=shots)\n",
    "converter = builder.erasure_circuit.compile_m2d_converter() # Expensive step\n",
    "\n",
    "det_samples, actual_obs_chunk = converter.convert(measurements=meas_samples,\n",
    "                                                        separate_observables=True)\n",
    "num_errors = 0\n",
    "for i in range(shots):\n",
    "    predicted  = builder.decode_by_generate_new_circ(det_samples[i],'S',meas_samples[i])\n",
    "    num_errors += actual_obs_chunk[i][0] != predicted\n",
    "    clear_output(wait=True)\n",
    "    print(f'decoding finished {100*i/shots}%')\n",
    "\n",
    "print(f\"error/shots = {num_errors}/{shots}\")"
   ]
  },
  {
   "cell_type": "markdown",
   "metadata": {},
   "source": [
    "# demo importance sampling"
   ]
  },
  {
   "cell_type": "code",
   "execution_count": 6,
   "metadata": {},
   "outputs": [
    {
     "name": "stdout",
     "output_type": "stream",
     "text": [
      "decoding finished 98.0%\n",
      "error/shots = 8/50, this config has weight = 0.0001621490785050091\n"
     ]
    }
   ],
   "source": [
    "import sys\n",
    "sys.path.append('..')\n",
    "from EfficientSurfaceCodeSim import *\n",
    "from IPython.display import clear_output\n",
    "\n",
    "\n",
    "def generate_bool_array(tot, choose):\n",
    "    array = np.zeros(tot, dtype=bool)\n",
    "    indices = np.random.choice(tot, choose, replace=False)\n",
    "    assert len(indices) == choose\n",
    "    array[indices] = True\n",
    "    return array\n",
    "\n",
    "def get_weight(num_dice_e,num_dice_p,num_e_flipped,num_p_flipped,p_e,p_p):\n",
    "    # Calculate binomial coefficients\n",
    "    binom_e = math.comb(num_dice_e, num_e_flipped)\n",
    "    binom_p = math.comb(num_dice_p, num_p_flipped)\n",
    "    \n",
    "    prob_e = (p_e ** num_e_flipped) * ((1 - p_e) ** (num_dice_e - num_e_flipped))\n",
    "    prob_p = (p_p ** num_p_flipped) * ((1 - p_p) ** (num_dice_p - num_p_flipped))\n",
    "    \n",
    "    # Calculate the weight\n",
    "    weight = binom_e * prob_e * binom_p * prob_p\n",
    "    \n",
    "    return weight\n",
    "\n",
    "shots = 50\n",
    "d = 5\n",
    "\n",
    "p_e=0.08\n",
    "p_p=0.001\n",
    "after_cz_error_model = get_2q_error_model(p_e=p_e,\n",
    "                                        p_p=p_p)\n",
    "builder = easure_circ_builder(rounds = d,\n",
    "                                distance= d,\n",
    "                                after_cz_error_model=after_cz_error_model,\n",
    "                                measurement_error=0\n",
    "                                )\n",
    "builder.generate_helper()\n",
    "builder.gen_dummy_circuit()\n",
    "\n",
    "# Step-1 get tot_e, tot_p\n",
    "non_trivial_gate_error_models = [attr_value for attr_name, attr_value in vars(builder).items() if isinstance(attr_value, GateErrorModel) and not  attr_value.trivial]\n",
    "assert len(non_trivial_gate_error_models) == 1\n",
    "\n",
    "tot_e = non_trivial_gate_error_models[0].name_to_mechanism['2q erasure'].dummy_generator.num_qubit_called\n",
    "tot_p = non_trivial_gate_error_models[0].name_to_mechanism['2q depo'].dummy_generator.num_qubit_called\n",
    "\n",
    "num_qubit_per_dice_e = non_trivial_gate_error_models[0].name_to_mechanism['2q erasure'].deterministic_generator.num_qubit_per_dice\n",
    "num_qubit_per_dice_p = non_trivial_gate_error_models[0].name_to_mechanism['2q depo'].deterministic_generator.num_qubit_per_dice\n",
    "\n",
    "num_dice_e = int(tot_e/num_qubit_per_dice_e)\n",
    "num_dice_p = int(tot_p/num_qubit_per_dice_p)\n",
    "\n",
    "builder.gen_erasure_conversion_circuit()\n",
    "erasure_circ_next_ancilla_qubit_index = builder.next_ancilla_qubit_index_in_list[0]\n",
    "converter = builder.erasure_circuit.compile_m2d_converter()\n",
    "\n",
    "# num_dice_e, num_dice_p\n",
    "\n",
    "num_e_flipped = int(num_dice_e/20)\n",
    "num_p_flipped = 0\n",
    "weight = get_weight(num_dice_e,num_dice_p,num_e_flipped,num_p_flipped,p_e,p_p)\n",
    "num_errors = 0\n",
    "\n",
    "for i in range(shots):\n",
    "\n",
    "    # contrary to generating erasure conversion circuit where I sync a single measurement array with multiple GateErrorModels, \n",
    "    #   here I manually set the dice for each unique mechanism\n",
    "    e_dice_sample = generate_bool_array(num_dice_e, num_e_flipped)\n",
    "    p_dice_sample = generate_bool_array(num_dice_p, num_p_flipped)\n",
    "\n",
    "    non_trivial_gate_error_models[0].name_to_mechanism['2q erasure'].next_dice_index_in_list = [0]\n",
    "    non_trivial_gate_error_models[0].name_to_mechanism['2q depo'].next_dice_index_in_list = [0]\n",
    "\n",
    "    non_trivial_gate_error_models[0].name_to_mechanism['2q erasure'].single_dice_sample = e_dice_sample\n",
    "    non_trivial_gate_error_models[0].name_to_mechanism['2q depo'].single_dice_sample = p_dice_sample\n",
    "\n",
    "    builder.deterministic_circuit = stim.Circuit()\n",
    "    builder.gen_circuit(builder.deterministic_circuit,mode='deterministic')\n",
    "    builder.deterministic_circuit.append(\"MZ\", \n",
    "                                np.arange(2*(builder.distance+1)**2, erasure_circ_next_ancilla_qubit_index, dtype=int)\n",
    "                                )  # Measure the virtual erasure ancilla qubits\n",
    "    \n",
    "    sampler = builder.deterministic_circuit.compile_sampler()\n",
    "    meas_samples = sampler.sample(shots=1)\n",
    "    det_samples, actual_obs_chunk = converter.convert(measurements=meas_samples,\n",
    "                                                            separate_observables=True)\n",
    "    \n",
    "    predicted  = builder.decode_by_generate_new_circ(det_samples[0],'S',meas_samples[0])\n",
    "    num_errors += actual_obs_chunk[0][0] != predicted\n",
    "    \n",
    "    clear_output(wait=True)\n",
    "    print(f'decoding finished {100*i/shots}%')\n",
    "\n",
    "\n",
    "print(f\"error/shots = {num_errors}/{shots}, this config has weight = {weight}\")"
   ]
  },
  {
   "cell_type": "code",
   "execution_count": null,
   "metadata": {},
   "outputs": [],
   "source": []
  }
 ],
 "metadata": {
  "kernelspec": {
   "display_name": "qec_sim",
   "language": "python",
   "name": "python3"
  },
  "language_info": {
   "codemirror_mode": {
    "name": "ipython",
    "version": 3
   },
   "file_extension": ".py",
   "mimetype": "text/x-python",
   "name": "python",
   "nbconvert_exporter": "python",
   "pygments_lexer": "ipython3",
   "version": "3.10.13"
  }
 },
 "nbformat": 4,
 "nbformat_minor": 2
}
