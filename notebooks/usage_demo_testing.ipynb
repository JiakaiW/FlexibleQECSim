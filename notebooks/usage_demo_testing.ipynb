{
 "cells": [
  {
   "cell_type": "markdown",
   "metadata": {},
   "source": [
    "# demo erasure simulation and decoding"
   ]
  },
  {
   "cell_type": "code",
   "execution_count": 1,
   "metadata": {},
   "outputs": [
    {
     "name": "stdout",
     "output_type": "stream",
     "text": [
      "\u001b[33mWARNING: Skipping FlexibleQECSim as it is not installed.\u001b[0m\u001b[33m\n",
      "\u001b[0mCollecting git+https://github.com/JiakaiW/FlexibleQECSim\n",
      "  Cloning https://github.com/JiakaiW/FlexibleQECSim to /private/var/folders/9k/z8bpg3hj3d9841ggs75xmwxw0000gn/T/pip-req-build-vbeli44d\n",
      "  Running command git clone --filter=blob:none --quiet https://github.com/JiakaiW/FlexibleQECSim /private/var/folders/9k/z8bpg3hj3d9841ggs75xmwxw0000gn/T/pip-req-build-vbeli44d\n",
      "  Resolved https://github.com/JiakaiW/FlexibleQECSim to commit 53c0452f0309a1d4b95804ad20cd5ece52142b01\n",
      "  Preparing metadata (setup.py) ... \u001b[?25ldone\n",
      "\u001b[?25hRequirement already satisfied: numpy in /Users/jiakaiwang/miniconda3/envs/qec_sim/lib/python3.10/site-packages (from FlexibleQECSim==0.0.3) (1.26.4)\n",
      "Requirement already satisfied: stim in /Users/jiakaiwang/miniconda3/envs/qec_sim/lib/python3.10/site-packages (from FlexibleQECSim==0.0.3) (1.13.0)\n",
      "Requirement already satisfied: pymatching in /Users/jiakaiwang/miniconda3/envs/qec_sim/lib/python3.10/site-packages (from FlexibleQECSim==0.0.3) (2.2.1)\n",
      "Requirement already satisfied: scipy in /Users/jiakaiwang/miniconda3/envs/qec_sim/lib/python3.10/site-packages (from pymatching->FlexibleQECSim==0.0.3) (1.12.0)\n",
      "Requirement already satisfied: networkx in /Users/jiakaiwang/miniconda3/envs/qec_sim/lib/python3.10/site-packages (from pymatching->FlexibleQECSim==0.0.3) (3.3)\n",
      "Requirement already satisfied: matplotlib in /Users/jiakaiwang/miniconda3/envs/qec_sim/lib/python3.10/site-packages (from pymatching->FlexibleQECSim==0.0.3) (3.9.1)\n",
      "Requirement already satisfied: contourpy>=1.0.1 in /Users/jiakaiwang/miniconda3/envs/qec_sim/lib/python3.10/site-packages (from matplotlib->pymatching->FlexibleQECSim==0.0.3) (1.2.1)\n",
      "Requirement already satisfied: cycler>=0.10 in /Users/jiakaiwang/miniconda3/envs/qec_sim/lib/python3.10/site-packages (from matplotlib->pymatching->FlexibleQECSim==0.0.3) (0.12.1)\n",
      "Requirement already satisfied: fonttools>=4.22.0 in /Users/jiakaiwang/miniconda3/envs/qec_sim/lib/python3.10/site-packages (from matplotlib->pymatching->FlexibleQECSim==0.0.3) (4.53.1)\n",
      "Requirement already satisfied: kiwisolver>=1.3.1 in /Users/jiakaiwang/miniconda3/envs/qec_sim/lib/python3.10/site-packages (from matplotlib->pymatching->FlexibleQECSim==0.0.3) (1.4.5)\n",
      "Requirement already satisfied: packaging>=20.0 in /Users/jiakaiwang/miniconda3/envs/qec_sim/lib/python3.10/site-packages (from matplotlib->pymatching->FlexibleQECSim==0.0.3) (24.1)\n",
      "Requirement already satisfied: pillow>=8 in /Users/jiakaiwang/miniconda3/envs/qec_sim/lib/python3.10/site-packages (from matplotlib->pymatching->FlexibleQECSim==0.0.3) (10.3.0)\n",
      "Requirement already satisfied: pyparsing>=2.3.1 in /Users/jiakaiwang/miniconda3/envs/qec_sim/lib/python3.10/site-packages (from matplotlib->pymatching->FlexibleQECSim==0.0.3) (3.1.2)\n",
      "Requirement already satisfied: python-dateutil>=2.7 in /Users/jiakaiwang/miniconda3/envs/qec_sim/lib/python3.10/site-packages (from matplotlib->pymatching->FlexibleQECSim==0.0.3) (2.9.0)\n",
      "Requirement already satisfied: six>=1.5 in /Users/jiakaiwang/miniconda3/envs/qec_sim/lib/python3.10/site-packages (from python-dateutil>=2.7->matplotlib->pymatching->FlexibleQECSim==0.0.3) (1.16.0)\n",
      "Building wheels for collected packages: FlexibleQECSim\n",
      "  Building wheel for FlexibleQECSim (setup.py) ... \u001b[?25ldone\n",
      "\u001b[?25h  Created wheel for FlexibleQECSim: filename=FlexibleQECSim-0.0.3-py3-none-any.whl size=40046 sha256=e05470420e2e8d0177d9ef9b1dd5912b800759cac532774f99b2d37c043e531f\n",
      "  Stored in directory: /private/var/folders/9k/z8bpg3hj3d9841ggs75xmwxw0000gn/T/pip-ephem-wheel-cache-e09ri1ma/wheels/7c/dc/ad/999e39376c608c6c8ac72fa547be284748da362e5eb86ec24c\n",
      "Successfully built FlexibleQECSim\n",
      "Installing collected packages: FlexibleQECSim\n",
      "Successfully installed FlexibleQECSim-0.0.3\n"
     ]
    }
   ],
   "source": [
    "! pip3 uninstall FlexibleQECSim -y\n",
    "! pip3 install git+https://github.com/JiakaiW/FlexibleQECSim"
   ]
  },
  {
   "cell_type": "code",
   "execution_count": 7,
   "metadata": {},
   "outputs": [
    {
     "name": "stdout",
     "output_type": "stream",
     "text": [
      "decoding finished 98.0%\n"
     ]
    }
   ],
   "source": [
    "from FlexibleQECSim import *\n",
    "from IPython.display import clear_output\n",
    "\n",
    "d = 5\n",
    "after_cz_error_model = get_2q_error_model(p_e=0.2,\n",
    "                                            p_z_shift=0, \n",
    "                                            p_p=0.02)\n",
    "builder = RotatedSurfaceCodeMemoryExperimentBuilder(rounds = d,\n",
    "                                distance= d,\n",
    "                                after_cz_error_model=after_cz_error_model,\n",
    "                                measurement_error=0.04\n",
    "                                )\n",
    "builder.generate_helper()\n",
    "builder.gen_erasure_conversion_circuit()\n",
    "\n",
    "shots = 50\n",
    "\n",
    "sampler = builder.erasure_circuit.compile_sampler()#expensive step, 16s for d13, 4s for d11, 0.7s for d9\n",
    "meas_samples = sampler.sample(shots=shots)\n",
    "converter = builder.erasure_circuit.compile_m2d_converter() # Expensive step\n",
    "\n",
    "det_samples, actual_obs_chunk = converter.convert(measurements=meas_samples,\n",
    "                                                        separate_observables=True)\n",
    "num_errors = 0\n",
    "for i in range(shots):\n",
    "    predicted  = builder.decode_by_generate_new_circ(det_samples[i],'S',meas_samples[i])\n",
    "    print(actual_obs_chunk[i][0], predicted)\n",
    "    num_errors += actual_obs_chunk[i][0] != predicted\n",
    "    clear_output(wait=True)\n",
    "    print(f'decoding finished {100*i/shots}%')"
   ]
  },
  {
   "cell_type": "code",
   "execution_count": 6,
   "metadata": {},
   "outputs": [
    {
     "data": {
      "text/plain": [
       "2q depo"
      ]
     },
     "execution_count": 6,
     "metadata": {},
     "output_type": "execute_result"
    }
   ],
   "source": [
    "after_cz_error_model.list_of_mechanisms[0]"
   ]
  },
  {
   "cell_type": "code",
   "execution_count": 8,
   "metadata": {},
   "outputs": [
    {
     "name": "stdout",
     "output_type": "stream",
     "text": [
      "error/shots = 14/50\n"
     ]
    }
   ],
   "source": [
    "print(f\"error/shots = {num_errors}/{shots}\")"
   ]
  },
  {
   "cell_type": "markdown",
   "metadata": {},
   "source": [
    "# demo importance sampling"
   ]
  },
  {
   "cell_type": "code",
   "execution_count": 8,
   "metadata": {},
   "outputs": [
    {
     "ename": "AttributeError",
     "evalue": "'RotatedSurfaceCodeMemoryExperimentBuilder' object has no attribute 'gen_dummy_circuit'",
     "output_type": "error",
     "traceback": [
      "\u001b[0;31m---------------------------------------------------------------------------\u001b[0m",
      "\u001b[0;31mAttributeError\u001b[0m                            Traceback (most recent call last)",
      "Cell \u001b[0;32mIn[8], line 38\u001b[0m\n\u001b[1;32m     32\u001b[0m builder \u001b[38;5;241m=\u001b[39m RotatedSurfaceCodeMemoryExperimentBuilder(rounds \u001b[38;5;241m=\u001b[39m d,\n\u001b[1;32m     33\u001b[0m                                 distance\u001b[38;5;241m=\u001b[39m d,\n\u001b[1;32m     34\u001b[0m                                 after_cz_error_model\u001b[38;5;241m=\u001b[39mafter_cz_error_model,\n\u001b[1;32m     35\u001b[0m                                 measurement_error\u001b[38;5;241m=\u001b[39m\u001b[38;5;241m0\u001b[39m\n\u001b[1;32m     36\u001b[0m                                 )\n\u001b[1;32m     37\u001b[0m builder\u001b[38;5;241m.\u001b[39mgenerate_helper()\n\u001b[0;32m---> 38\u001b[0m \u001b[43mbuilder\u001b[49m\u001b[38;5;241;43m.\u001b[39;49m\u001b[43mgen_dummy_circuit\u001b[49m()\n\u001b[1;32m     39\u001b[0m \u001b[38;5;66;03m# Step-1 get tot_e, tot_p\u001b[39;00m\n\u001b[1;32m     40\u001b[0m non_trivial_gate_error_models \u001b[38;5;241m=\u001b[39m [attr_value \u001b[38;5;28;01mfor\u001b[39;00m attr_name, attr_value \u001b[38;5;129;01min\u001b[39;00m \u001b[38;5;28mvars\u001b[39m(builder)\u001b[38;5;241m.\u001b[39mitems() \u001b[38;5;28;01mif\u001b[39;00m \u001b[38;5;28misinstance\u001b[39m(attr_value, GateErrorModel) \u001b[38;5;129;01mand\u001b[39;00m \u001b[38;5;129;01mnot\u001b[39;00m  attr_value\u001b[38;5;241m.\u001b[39mtrivial]\n",
      "\u001b[0;31mAttributeError\u001b[0m: 'RotatedSurfaceCodeMemoryExperimentBuilder' object has no attribute 'gen_dummy_circuit'"
     ]
    }
   ],
   "source": [
    "from FlexibleQECSim import *\n",
    "from IPython.display import clear_output\n",
    "\n",
    "\n",
    "def generate_bool_array(tot, choose):\n",
    "    array = np.zeros(tot, dtype=bool)\n",
    "    indices = np.random.choice(tot, choose, replace=False)\n",
    "    assert len(indices) == choose\n",
    "    array[indices] = True\n",
    "    return array\n",
    "\n",
    "def get_weight(num_dice_e,num_dice_p,num_e_flipped,num_p_flipped,p_e,p_p):\n",
    "    # Calculate binomial coefficients\n",
    "    binom_e = math.comb(num_dice_e, num_e_flipped)\n",
    "    binom_p = math.comb(num_dice_p, num_p_flipped)\n",
    "    \n",
    "    prob_e = (p_e ** num_e_flipped) * ((1 - p_e) ** (num_dice_e - num_e_flipped))\n",
    "    prob_p = (p_p ** num_p_flipped) * ((1 - p_p) ** (num_dice_p - num_p_flipped))\n",
    "    \n",
    "    # Calculate the weight\n",
    "    weight = binom_e * prob_e * binom_p * prob_p\n",
    "    \n",
    "    return weight\n",
    "\n",
    "shots = 50\n",
    "d = 5\n",
    "\n",
    "p_e=0.08\n",
    "p_p=0.001\n",
    "after_cz_error_model = get_2q_error_model(p_e=p_e,\n",
    "                                        p_p=p_p)\n",
    "builder = RotatedSurfaceCodeMemoryExperimentBuilder(rounds = d,\n",
    "                                distance= d,\n",
    "                                after_cz_error_model=after_cz_error_model,\n",
    "                                measurement_error=0\n",
    "                                )\n",
    "builder.generate_helper()\n",
    "builder.gen_dummy_circuit()\n",
    "# Step-1 get tot_e, tot_p\n",
    "non_trivial_gate_error_models = [attr_value for attr_name, attr_value in vars(builder).items() if isinstance(attr_value, GateErrorModel) and not  attr_value.trivial]\n",
    "assert len(non_trivial_gate_error_models) == 1\n",
    "\n",
    "tot_e = non_trivial_gate_error_models[0].name_to_mechanism['2q erasure'].dummy_generator.num_qubit_called\n",
    "tot_p = non_trivial_gate_error_models[0].name_to_mechanism['2q depo'].dummy_generator.num_qubit_called\n",
    "\n",
    "num_qubit_per_dice_e = non_trivial_gate_error_models[0].name_to_mechanism['2q erasure'].deterministic_generator.num_qubit_per_dice\n",
    "num_qubit_per_dice_p = non_trivial_gate_error_models[0].name_to_mechanism['2q depo'].deterministic_generator.num_qubit_per_dice\n",
    "\n",
    "num_dice_e = int(tot_e/num_qubit_per_dice_e)\n",
    "num_dice_p = int(tot_p/num_qubit_per_dice_p)\n",
    "\n",
    "builder.gen_erasure_conversion_circuit()\n",
    "erasure_circ_next_ancilla_qubit_index = builder.next_ancilla_qubit_index_in_list[0]\n",
    "converter = builder.erasure_circuit.compile_m2d_converter()\n",
    "\n",
    "# num_dice_e, num_dice_p\n",
    "\n",
    "num_e_flipped = int(num_dice_e/20)\n",
    "num_p_flipped = 0\n",
    "weight = get_weight(num_dice_e,num_dice_p,num_e_flipped,num_p_flipped,p_e,p_p)\n",
    "num_errors = 0\n",
    "\n",
    "for i in range(shots):\n",
    "\n",
    "    # contrary to generating erasure conversion circuit where I sync a single measurement array with multiple GateErrorModels, \n",
    "    #   here I manually set the dice for each unique mechanism\n",
    "    e_dice_sample = generate_bool_array(num_dice_e, num_e_flipped)\n",
    "    p_dice_sample = generate_bool_array(num_dice_p, num_p_flipped)\n",
    "\n",
    "    non_trivial_gate_error_models[0].name_to_mechanism['2q erasure'].next_dice_index_in_list = [0]\n",
    "    non_trivial_gate_error_models[0].name_to_mechanism['2q depo'].next_dice_index_in_list = [0]\n",
    "\n",
    "    non_trivial_gate_error_models[0].name_to_mechanism['2q erasure'].single_dice_sample = e_dice_sample\n",
    "    non_trivial_gate_error_models[0].name_to_mechanism['2q depo'].single_dice_sample = p_dice_sample\n",
    "\n",
    "    builder.deterministic_circuit = stim.Circuit()\n",
    "    builder.gen_circuit(builder.deterministic_circuit,mode='deterministic')\n",
    "    builder.deterministic_circuit.append(\"MZ\", \n",
    "                                np.arange(2*(builder.distance+1)**2, erasure_circ_next_ancilla_qubit_index, dtype=int)\n",
    "                                )  # Measure the virtual erasure ancilla qubits\n",
    "    \n",
    "    sampler = builder.deterministic_circuit.compile_sampler()\n",
    "    meas_samples = sampler.sample(shots=1)\n",
    "    det_samples, actual_obs_chunk = converter.convert(measurements=meas_samples,\n",
    "                                                            separate_observables=True)\n",
    "    \n",
    "    predicted  = builder.decode_by_generate_new_circ(det_samples[0],'S',meas_samples[0])\n",
    "    num_errors += actual_obs_chunk[0][0] != predicted\n",
    "    \n",
    "    clear_output(wait=True)\n",
    "    print(f'decoding finished {100*i/shots}%')\n",
    "\n",
    "\n",
    "print(f\"error/shots = {num_errors}/{shots}, this config has weight = {weight}\")"
   ]
  },
  {
   "cell_type": "code",
   "execution_count": 4,
   "metadata": {},
   "outputs": [
    {
     "data": {
      "text/plain": [
       "array([], dtype=bool)"
      ]
     },
     "execution_count": 4,
     "metadata": {},
     "output_type": "execute_result"
    }
   ],
   "source": [
    "generate_bool_array(num_dice_e, num_e_flipped)"
   ]
  },
  {
   "cell_type": "code",
   "execution_count": 5,
   "metadata": {},
   "outputs": [
    {
     "data": {
      "text/plain": [
       "0"
      ]
     },
     "execution_count": 5,
     "metadata": {},
     "output_type": "execute_result"
    }
   ],
   "source": [
    "num_dice_e"
   ]
  },
  {
   "cell_type": "code",
   "execution_count": 6,
   "metadata": {},
   "outputs": [
    {
     "data": {
      "text/plain": [
       "0"
      ]
     },
     "execution_count": 6,
     "metadata": {},
     "output_type": "execute_result"
    }
   ],
   "source": [
    "num_e_flipped"
   ]
  },
  {
   "cell_type": "code",
   "execution_count": 7,
   "metadata": {},
   "outputs": [
    {
     "data": {
      "text/plain": [
       "0"
      ]
     },
     "execution_count": 7,
     "metadata": {},
     "output_type": "execute_result"
    }
   ],
   "source": [
    "tot_e"
   ]
  },
  {
   "cell_type": "code",
   "execution_count": null,
   "metadata": {},
   "outputs": [],
   "source": []
  }
 ],
 "metadata": {
  "kernelspec": {
   "display_name": "qec_sim",
   "language": "python",
   "name": "python3"
  },
  "language_info": {
   "codemirror_mode": {
    "name": "ipython",
    "version": 3
   },
   "file_extension": ".py",
   "mimetype": "text/x-python",
   "name": "python",
   "nbconvert_exporter": "python",
   "pygments_lexer": "ipython3",
   "version": "3.10.13"
  }
 },
 "nbformat": 4,
 "nbformat_minor": 2
}
